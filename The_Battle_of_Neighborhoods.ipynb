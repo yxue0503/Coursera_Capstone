{
 "cells": [
  {
   "cell_type": "markdown",
   "metadata": {},
   "source": [
    "# The Battle of Neighborhoods"
   ]
  },
  {
   "cell_type": "markdown",
   "metadata": {},
   "source": [
    "## Introduction"
   ]
  },
  {
   "cell_type": "markdown",
   "metadata": {},
   "source": [
    "The purpose of this project is to help people in exploring the two famous cities in the United States in terms of selecting great neighborhoods to live. New York City and San Francisco are two famous cities in the US for its culture diversity and old history. \n",
    "\n",
    "Lots of people, especially immigrants plan to move here to seek for a better life. Those people might need information like good housing prices, nice school for children education as well as the accessibility to tasty restaurants. \n",
    "\n",
    "This project aims to make an analysis of features for a coming residents to New York and San Francisco to search a best neighborhood to live from a comparative analysis between neighborhoods. The Features will include housing price range, school rating, crime rates and restaurant ratings."
   ]
  },
  {
   "cell_type": "code",
   "execution_count": null,
   "metadata": {},
   "outputs": [],
   "source": []
  }
 ],
 "metadata": {
  "kernelspec": {
   "display_name": "Python 3",
   "language": "python",
   "name": "python3"
  },
  "language_info": {
   "codemirror_mode": {
    "name": "ipython",
    "version": 3
   },
   "file_extension": ".py",
   "mimetype": "text/x-python",
   "name": "python",
   "nbconvert_exporter": "python",
   "pygments_lexer": "ipython3",
   "version": "3.8.3"
  }
 },
 "nbformat": 4,
 "nbformat_minor": 4
}
